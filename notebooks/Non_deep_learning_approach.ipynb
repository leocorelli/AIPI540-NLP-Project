{
  "nbformat": 4,
  "nbformat_minor": 0,
  "metadata": {
    "colab": {
      "name": "Non-deep learning approach.ipynb",
      "provenance": [],
      "collapsed_sections": []
    },
    "kernelspec": {
      "name": "python3",
      "display_name": "Python 3"
    },
    "language_info": {
      "name": "python"
    }
  },
  "cells": [
    {
      "cell_type": "markdown",
      "source": [
        "## Install/Import"
      ],
      "metadata": {
        "id": "UbwwsBQULUJd"
      }
    },
    {
      "cell_type": "code",
      "execution_count": null,
      "metadata": {
        "id": "wrgY6HcL_phC",
        "colab": {
          "base_uri": "https://localhost:8080/"
        },
        "outputId": "cdc34aa5-da3a-46e3-c49d-5380b68b1c1a"
      },
      "outputs": [
        {
          "output_type": "stream",
          "name": "stdout",
          "text": [
            "[nltk_data] Downloading package wordnet to /root/nltk_data...\n",
            "[nltk_data]   Unzipping corpora/wordnet.zip.\n",
            "[nltk_data] Downloading package omw-1.4 to /root/nltk_data...\n",
            "[nltk_data]   Unzipping corpora/omw-1.4.zip.\n"
          ]
        },
        {
          "output_type": "execute_result",
          "data": {
            "text/plain": [
              "True"
            ]
          },
          "metadata": {},
          "execution_count": 1
        }
      ],
      "source": [
        "import os\n",
        "import numpy as np\n",
        "import pandas as pd\n",
        "import string\n",
        "import time\n",
        "from sklearn.feature_extraction.text import TfidfVectorizer, CountVectorizer\n",
        "from tqdm import tqdm\n",
        "from sklearn.linear_model import LogisticRegression\n",
        "from sklearn.model_selection import train_test_split\n",
        "\n",
        "import urllib.request\n",
        "import zipfile\n",
        "\n",
        "import spacy\n",
        "from spacy.lang.en.stop_words import STOP_WORDS\n",
        "from spacy.lang.en import English\n",
        "#!python -m spacy download en_core_web_md\n",
        "nlp = spacy.load('en_core_web_sm')\n",
        "\n",
        "import nltk\n",
        "nltk.download('wordnet')\n",
        "\n",
        "from nltk.stem import WordNetLemmatizer\n",
        "nltk.download('omw-1.4')"
      ]
    },
    {
      "cell_type": "markdown",
      "source": [
        "# Mount Google Drive"
      ],
      "metadata": {
        "id": "r2EBubV_LqjF"
      }
    },
    {
      "cell_type": "code",
      "source": [
        "from google.colab import drive\n",
        "drive.mount('/content/drive')"
      ],
      "metadata": {
        "id": "fhVrbuZ9G1_R",
        "colab": {
          "base_uri": "https://localhost:8080/"
        },
        "outputId": "94b2d77f-1e72-4dc6-c99e-a37f15acca27"
      },
      "execution_count": null,
      "outputs": [
        {
          "output_type": "stream",
          "name": "stdout",
          "text": [
            "Mounted at /content/drive\n"
          ]
        }
      ]
    },
    {
      "cell_type": "markdown",
      "source": [
        "# Import Data"
      ],
      "metadata": {
        "id": "VdDezVjtLxVq"
      }
    },
    {
      "cell_type": "code",
      "source": [
        "cd /content/drive/MyDrive/NLP Module Project"
      ],
      "metadata": {
        "colab": {
          "base_uri": "https://localhost:8080/"
        },
        "id": "_Actr4-gIlE5",
        "outputId": "5d5254ba-3117-4744-df6f-b5d3e2dcb527"
      },
      "execution_count": null,
      "outputs": [
        {
          "output_type": "stream",
          "name": "stdout",
          "text": [
            "/content/drive/.shortcut-targets-by-id/16NFwxd7Q9SIt5z2tPHNwMUDjYvt-NV3e/NLP Module Project\n"
          ]
        }
      ]
    },
    {
      "cell_type": "code",
      "source": [
        "data = pd.read_csv(\"./reviews.csv\")\n",
        "data"
      ],
      "metadata": {
        "colab": {
          "base_uri": "https://localhost:8080/",
          "height": 423
        },
        "id": "SLoqBFX7JQE7",
        "outputId": "485d7469-6f91-4243-937d-0299326b7260"
      },
      "execution_count": null,
      "outputs": [
        {
          "output_type": "execute_result",
          "data": {
            "text/plain": [
              "            Id                                             Review  Label\n",
              "0            0                               good and interesting      5\n",
              "1            1  This class is very helpful to me. Currently, I...      5\n",
              "2            2  like!Prof and TAs are helpful and the discussi...      5\n",
              "3            3  Easy to follow and includes a lot basic and im...      5\n",
              "4            4  Really nice teacher!I could got the point eazl...      4\n",
              "...        ...                                                ...    ...\n",
              "107013  107013  Trendy topic with talks from expertises in the...      4\n",
              "107014  107014  Wonderful! Simple and clear language, good ins...      5\n",
              "107015  107015   an interesting and fun course. thanks. dr quincy      5\n",
              "107016  107016  very broad perspective, up to date information...      4\n",
              "107017  107017  An informative course on the social and financ...      4\n",
              "\n",
              "[107018 rows x 3 columns]"
            ],
            "text/html": [
              "\n",
              "  <div id=\"df-3f5d0ac9-eead-4198-9296-14d43442e412\">\n",
              "    <div class=\"colab-df-container\">\n",
              "      <div>\n",
              "<style scoped>\n",
              "    .dataframe tbody tr th:only-of-type {\n",
              "        vertical-align: middle;\n",
              "    }\n",
              "\n",
              "    .dataframe tbody tr th {\n",
              "        vertical-align: top;\n",
              "    }\n",
              "\n",
              "    .dataframe thead th {\n",
              "        text-align: right;\n",
              "    }\n",
              "</style>\n",
              "<table border=\"1\" class=\"dataframe\">\n",
              "  <thead>\n",
              "    <tr style=\"text-align: right;\">\n",
              "      <th></th>\n",
              "      <th>Id</th>\n",
              "      <th>Review</th>\n",
              "      <th>Label</th>\n",
              "    </tr>\n",
              "  </thead>\n",
              "  <tbody>\n",
              "    <tr>\n",
              "      <th>0</th>\n",
              "      <td>0</td>\n",
              "      <td>good and interesting</td>\n",
              "      <td>5</td>\n",
              "    </tr>\n",
              "    <tr>\n",
              "      <th>1</th>\n",
              "      <td>1</td>\n",
              "      <td>This class is very helpful to me. Currently, I...</td>\n",
              "      <td>5</td>\n",
              "    </tr>\n",
              "    <tr>\n",
              "      <th>2</th>\n",
              "      <td>2</td>\n",
              "      <td>like!Prof and TAs are helpful and the discussi...</td>\n",
              "      <td>5</td>\n",
              "    </tr>\n",
              "    <tr>\n",
              "      <th>3</th>\n",
              "      <td>3</td>\n",
              "      <td>Easy to follow and includes a lot basic and im...</td>\n",
              "      <td>5</td>\n",
              "    </tr>\n",
              "    <tr>\n",
              "      <th>4</th>\n",
              "      <td>4</td>\n",
              "      <td>Really nice teacher!I could got the point eazl...</td>\n",
              "      <td>4</td>\n",
              "    </tr>\n",
              "    <tr>\n",
              "      <th>...</th>\n",
              "      <td>...</td>\n",
              "      <td>...</td>\n",
              "      <td>...</td>\n",
              "    </tr>\n",
              "    <tr>\n",
              "      <th>107013</th>\n",
              "      <td>107013</td>\n",
              "      <td>Trendy topic with talks from expertises in the...</td>\n",
              "      <td>4</td>\n",
              "    </tr>\n",
              "    <tr>\n",
              "      <th>107014</th>\n",
              "      <td>107014</td>\n",
              "      <td>Wonderful! Simple and clear language, good ins...</td>\n",
              "      <td>5</td>\n",
              "    </tr>\n",
              "    <tr>\n",
              "      <th>107015</th>\n",
              "      <td>107015</td>\n",
              "      <td>an interesting and fun course. thanks. dr quincy</td>\n",
              "      <td>5</td>\n",
              "    </tr>\n",
              "    <tr>\n",
              "      <th>107016</th>\n",
              "      <td>107016</td>\n",
              "      <td>very broad perspective, up to date information...</td>\n",
              "      <td>4</td>\n",
              "    </tr>\n",
              "    <tr>\n",
              "      <th>107017</th>\n",
              "      <td>107017</td>\n",
              "      <td>An informative course on the social and financ...</td>\n",
              "      <td>4</td>\n",
              "    </tr>\n",
              "  </tbody>\n",
              "</table>\n",
              "<p>107018 rows × 3 columns</p>\n",
              "</div>\n",
              "      <button class=\"colab-df-convert\" onclick=\"convertToInteractive('df-3f5d0ac9-eead-4198-9296-14d43442e412')\"\n",
              "              title=\"Convert this dataframe to an interactive table.\"\n",
              "              style=\"display:none;\">\n",
              "        \n",
              "  <svg xmlns=\"http://www.w3.org/2000/svg\" height=\"24px\"viewBox=\"0 0 24 24\"\n",
              "       width=\"24px\">\n",
              "    <path d=\"M0 0h24v24H0V0z\" fill=\"none\"/>\n",
              "    <path d=\"M18.56 5.44l.94 2.06.94-2.06 2.06-.94-2.06-.94-.94-2.06-.94 2.06-2.06.94zm-11 1L8.5 8.5l.94-2.06 2.06-.94-2.06-.94L8.5 2.5l-.94 2.06-2.06.94zm10 10l.94 2.06.94-2.06 2.06-.94-2.06-.94-.94-2.06-.94 2.06-2.06.94z\"/><path d=\"M17.41 7.96l-1.37-1.37c-.4-.4-.92-.59-1.43-.59-.52 0-1.04.2-1.43.59L10.3 9.45l-7.72 7.72c-.78.78-.78 2.05 0 2.83L4 21.41c.39.39.9.59 1.41.59.51 0 1.02-.2 1.41-.59l7.78-7.78 2.81-2.81c.8-.78.8-2.07 0-2.86zM5.41 20L4 18.59l7.72-7.72 1.47 1.35L5.41 20z\"/>\n",
              "  </svg>\n",
              "      </button>\n",
              "      \n",
              "  <style>\n",
              "    .colab-df-container {\n",
              "      display:flex;\n",
              "      flex-wrap:wrap;\n",
              "      gap: 12px;\n",
              "    }\n",
              "\n",
              "    .colab-df-convert {\n",
              "      background-color: #E8F0FE;\n",
              "      border: none;\n",
              "      border-radius: 50%;\n",
              "      cursor: pointer;\n",
              "      display: none;\n",
              "      fill: #1967D2;\n",
              "      height: 32px;\n",
              "      padding: 0 0 0 0;\n",
              "      width: 32px;\n",
              "    }\n",
              "\n",
              "    .colab-df-convert:hover {\n",
              "      background-color: #E2EBFA;\n",
              "      box-shadow: 0px 1px 2px rgba(60, 64, 67, 0.3), 0px 1px 3px 1px rgba(60, 64, 67, 0.15);\n",
              "      fill: #174EA6;\n",
              "    }\n",
              "\n",
              "    [theme=dark] .colab-df-convert {\n",
              "      background-color: #3B4455;\n",
              "      fill: #D2E3FC;\n",
              "    }\n",
              "\n",
              "    [theme=dark] .colab-df-convert:hover {\n",
              "      background-color: #434B5C;\n",
              "      box-shadow: 0px 1px 3px 1px rgba(0, 0, 0, 0.15);\n",
              "      filter: drop-shadow(0px 1px 2px rgba(0, 0, 0, 0.3));\n",
              "      fill: #FFFFFF;\n",
              "    }\n",
              "  </style>\n",
              "\n",
              "      <script>\n",
              "        const buttonEl =\n",
              "          document.querySelector('#df-3f5d0ac9-eead-4198-9296-14d43442e412 button.colab-df-convert');\n",
              "        buttonEl.style.display =\n",
              "          google.colab.kernel.accessAllowed ? 'block' : 'none';\n",
              "\n",
              "        async function convertToInteractive(key) {\n",
              "          const element = document.querySelector('#df-3f5d0ac9-eead-4198-9296-14d43442e412');\n",
              "          const dataTable =\n",
              "            await google.colab.kernel.invokeFunction('convertToInteractive',\n",
              "                                                     [key], {});\n",
              "          if (!dataTable) return;\n",
              "\n",
              "          const docLinkHtml = 'Like what you see? Visit the ' +\n",
              "            '<a target=\"_blank\" href=https://colab.research.google.com/notebooks/data_table.ipynb>data table notebook</a>'\n",
              "            + ' to learn more about interactive tables.';\n",
              "          element.innerHTML = '';\n",
              "          dataTable['output_type'] = 'display_data';\n",
              "          await google.colab.output.renderOutput(dataTable, element);\n",
              "          const docLink = document.createElement('div');\n",
              "          docLink.innerHTML = docLinkHtml;\n",
              "          element.appendChild(docLink);\n",
              "        }\n",
              "      </script>\n",
              "    </div>\n",
              "  </div>\n",
              "  "
            ]
          },
          "metadata": {},
          "execution_count": 4
        }
      ]
    },
    {
      "cell_type": "markdown",
      "source": [
        "# Prepare Dataset"
      ],
      "metadata": {
        "id": "JRXNConAL30w"
      }
    },
    {
      "cell_type": "code",
      "source": [
        "X = data['Review']\n",
        "y = data['Label']\n",
        "\n",
        "#Split dataset into train and test\n",
        "X_train, X_test, y_train, y_test = train_test_split(X, y, test_size = 0.2)"
      ],
      "metadata": {
        "id": "xQ_yNfUUKDv5"
      },
      "execution_count": null,
      "outputs": []
    },
    {
      "cell_type": "code",
      "source": [
        "X_train"
      ],
      "metadata": {
        "colab": {
          "base_uri": "https://localhost:8080/"
        },
        "id": "XY-ZFd1FJScl",
        "outputId": "aa08b4f3-b94f-4487-b732-f020117cd66b"
      },
      "execution_count": null,
      "outputs": [
        {
          "output_type": "execute_result",
          "data": {
            "text/plain": [
              "2840                               Very informative course.\n",
              "101291    Excellent professor. I´m glad I had the chance...\n",
              "75324                             Good course for startup .\n",
              "7649      Very helpful. Straightforward and practical. I...\n",
              "54289     I found this course to be the most enjoyable s...\n",
              "                                ...                        \n",
              "46088     After the first two random videos I watched I ...\n",
              "79647     I love this course! First of all, the teacher ...\n",
              "106686    Challenging. The big puzzle combined out of 4 ...\n",
              "74766     A little time-wasting for those who already ha...\n",
              "39542     Dr. Chuck is always a pleasure to listen to. A...\n",
              "Name: Review, Length: 85614, dtype: object"
            ]
          },
          "metadata": {},
          "execution_count": 6
        }
      ]
    },
    {
      "cell_type": "markdown",
      "source": [
        "# Pre-process text"
      ],
      "metadata": {
        "id": "q_MsyDX8P1zw"
      }
    },
    {
      "cell_type": "code",
      "source": [
        "def tokenize(sentence,method='spacy'):\n",
        "# Tokenize and lemmatize text, remove stopwords and punctuation\n",
        "\n",
        "    punctuations = string.punctuation\n",
        "    stopwords = list(STOP_WORDS)\n",
        "\n",
        "    if method=='nltk':\n",
        "        # Tokenize\n",
        "        tokens = nltk.word_tokenize(sentence,preserve_line=True)\n",
        "        # Remove stopwords and punctuation\n",
        "        tokens = [word for word in tokens if word not in stopwords and word not in punctuations]\n",
        "        # Lemmatize\n",
        "        wordnet_lemmatizer = WordNetLemmatizer()\n",
        "        tokens = [wordnet_lemmatizer.lemmatize(word) for word in tokens]\n",
        "        tokens = \" \".join([i for i in tokens])\n",
        "    else:\n",
        "        # Tokenize\n",
        "        with nlp.select_pipes(enable=['tokenizer','lemmatizer']):\n",
        "            tokens = nlp(sentence)\n",
        "        # Lemmatize\n",
        "        tokens = [word.lemma_.lower().strip() for word in tokens]\n",
        "        # Remove stopwords and punctuation\n",
        "        tokens = [word for word in tokens if word not in stopwords and word not in punctuations]\n",
        "        tokens = \" \".join([i for i in tokens])\n",
        "    return tokens"
      ],
      "metadata": {
        "id": "GbQoquSNPqYs"
      },
      "execution_count": null,
      "outputs": []
    },
    {
      "cell_type": "code",
      "source": [
        "train_df = X_train\n",
        "test_df = X_test\n",
        "\n",
        "# Process the training set text\n",
        "tqdm.pandas()\n",
        "train_df['processed_text'] = train_df.progress_apply(lambda x: tokenize(x,method='nltk'))\n",
        "\n",
        "# Process the test set text\n",
        "tqdm.pandas()\n",
        "test_df['processed_text'] = test_df.progress_apply(lambda x: tokenize(x,method='nltk'))"
      ],
      "metadata": {
        "colab": {
          "base_uri": "https://localhost:8080/"
        },
        "id": "AYQtN_XJP-mr",
        "outputId": "8a7f5a24-0f55-42f3-cbae-55d5f0caf60d"
      },
      "execution_count": null,
      "outputs": [
        {
          "output_type": "stream",
          "name": "stderr",
          "text": [
            "100%|██████████| 85614/85614 [00:31<00:00, 2706.76it/s]\n",
            "100%|██████████| 21404/21404 [00:07<00:00, 2893.41it/s]\n"
          ]
        }
      ]
    },
    {
      "cell_type": "code",
      "source": [
        "def build_features(train_data, test_data, ngram_range, method='count'):\n",
        "    if method == 'tfidf':\n",
        "        # Create features using TFIDF\n",
        "        vec = TfidfVectorizer(ngram_range=ngram_range)\n",
        "        X_train = vec.fit_transform(train_df['processed_text'])\n",
        "        X_test = vec.transform(test_df['processed_text'])\n",
        "\n",
        "    else:\n",
        "        # Create features using word counts\n",
        "        vec = CountVectorizer(ngram_range=ngram_range)\n",
        "        X_train = vec.fit_transform(train_df['processed_text'])\n",
        "        X_test = vec.transform(test_df['processed_text'])\n",
        "\n",
        "    return X_train, X_test"
      ],
      "metadata": {
        "id": "FUIcq__mQxqE"
      },
      "execution_count": null,
      "outputs": []
    },
    {
      "cell_type": "code",
      "source": [
        "# Create features\n",
        "method = 'tfidf'\n",
        "ngram_range = (1, 2)\n",
        "X_train,X_test = build_features(train_df['processed_text'],test_df['processed_text'],ngram_range,method)\n"
      ],
      "metadata": {
        "id": "M1p-qLwsQ1Wn"
      },
      "execution_count": null,
      "outputs": []
    },
    {
      "cell_type": "markdown",
      "source": [
        "# Train model"
      ],
      "metadata": {
        "id": "rqU9c1QkQ7hV"
      }
    },
    {
      "cell_type": "code",
      "source": [
        "# Train a classification model using logistic regression classifier\n",
        "logreg_model = LogisticRegression(solver='saga')\n",
        "logreg_model.fit(X_train,y_train)\n",
        "preds = logreg_model.predict(X_train)\n",
        "acc = sum(preds==y_train)/len(y_train)\n",
        "print('Accuracy on the training set is {:.3f}'.format(acc))"
      ],
      "metadata": {
        "colab": {
          "base_uri": "https://localhost:8080/"
        },
        "id": "fY2govB7RNDs",
        "outputId": "517217d0-7053-467f-f7d7-4cbd5422e1da"
      },
      "execution_count": null,
      "outputs": [
        {
          "output_type": "stream",
          "name": "stdout",
          "text": [
            "Accuracy on the training set is 0.841\n"
          ]
        }
      ]
    },
    {
      "cell_type": "markdown",
      "source": [
        "# Evaluate model"
      ],
      "metadata": {
        "id": "w3hxf8p2Q5zM"
      }
    },
    {
      "cell_type": "code",
      "source": [
        "# Evaluate accuracy on the test set\n",
        "test_preds = logreg_model.predict(X_test)\n",
        "test_acc = sum(test_preds==y_test)/len(y_test)\n",
        "print('Accuracy on the test set is {:.3f}'.format(test_acc))"
      ],
      "metadata": {
        "colab": {
          "base_uri": "https://localhost:8080/"
        },
        "id": "67zpWLEsRxMz",
        "outputId": "f7b5f492-5883-4638-f1ad-261d1d784fa5"
      },
      "execution_count": null,
      "outputs": [
        {
          "output_type": "stream",
          "name": "stdout",
          "text": [
            "Accuracy on the test set is 0.778\n"
          ]
        }
      ]
    }
  ]
}